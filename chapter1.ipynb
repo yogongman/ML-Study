{
  "nbformat": 4,
  "nbformat_minor": 0,
  "metadata": {
    "colab": {
      "name": "chapter1.ipynb",
      "provenance": [],
      "authorship_tag": "ABX9TyNLxJ/f/3RN2e95YcL6Z397",
      "include_colab_link": true
    },
    "kernelspec": {
      "name": "python3",
      "display_name": "Python 3"
    },
    "language_info": {
      "name": "python"
    }
  },
  "cells": [
    {
      "cell_type": "markdown",
      "metadata": {
        "id": "view-in-github",
        "colab_type": "text"
      },
      "source": [
        "<a href=\"https://colab.research.google.com/github/yogongman/ML-Study/blob/main/chapter1.ipynb\" target=\"_parent\"><img src=\"https://colab.research.google.com/assets/colab-badge.svg\" alt=\"Open In Colab\"/></a>"
      ]
    },
    {
      "cell_type": "code",
      "execution_count": 46,
      "metadata": {
        "id": "mE-rfqETjhgf"
      },
      "outputs": [],
      "source": [
        "bream_length = [25.4, 26.3, 26.5, 29.0, 29.0, 29.7, 29.7, 30.0, 30.0, 30.7, 31.0, 31.0, \n",
        "                31.5, 32.0, 32.0, 32.0, 33.0, 33.0, 33.5, 33.5, 34.0, 34.0, 34.5, 35.0, \n",
        "                35.0, 35.0, 35.0, 36.0, 36.0, 37.0, 38.5, 38.5, 39.5, 41.0, 41.0]\n",
        "bream_weight = [242.0, 290.0, 340.0, 363.0, 430.0, 450.0, 500.0, 390.0, 450.0, 500.0, 475.0, 500.0, \n",
        "                500.0, 340.0, 600.0, 600.0, 700.0, 700.0, 610.0, 650.0, 575.0, 685.0, 620.0, 680.0, \n",
        "                700.0, 725.0, 720.0, 714.0, 850.0, 1000.0, 920.0, 955.0, 925.0, 975.0, 950.0]"
      ]
    },
    {
      "cell_type": "code",
      "source": [
        "import matplotlib.pyplot as plt\n",
        "\n",
        "plt.scatter(bream_length, bream_weight)\n",
        "plt.xlabel('lenght')\n",
        "plt.ylabel('weight')\n",
        "plt.show()\n",
        "# 산점도(scatter plot)"
      ],
      "metadata": {
        "colab": {
          "base_uri": "https://localhost:8080/",
          "height": 279
        },
        "id": "SMkY0FhUkJCx",
        "outputId": "243f1945-e5d0-45c9-94d0-0d00f6c941b3"
      },
      "execution_count": 15,
      "outputs": [
        {
          "output_type": "display_data",
          "data": {
            "image/png": "[encoded data removed]",
            "text/plain": [
              "<Figure size 432x288 with 1 Axes>"
            ]
          },
          "metadata": {
            "needs_background": "light"
          }
        }
      ]
    },
    {
      "cell_type": "code",
      "source": [
        "smelt_length = [9.8, 10.5, 10.6, 11.0, 11.2, 11.3, 11.8, 11.8, 12.0, 12.2, 12.4, 13.0, 14.3, 15.0]\n",
        "smelt_weight = [6.7, 7.5, 7.0, 9.7, 9.8, 8.7, 10.0, 9.9, 9.8, 12.2, 13.4, 12.2, 19.7, 19.9]"
      ],
      "metadata": {
        "id": "S0TqwNVHkfqe"
      },
      "execution_count": 16,
      "outputs": []
    },
    {
      "cell_type": "code",
      "source": [
        "plt.scatter(bream_length, bream_weight)\n",
        "plt.scatter(smelt_length, smelt_weight)\n",
        "plt.xlabel('length')\n",
        "plt.ylabel('weight')\n",
        "plt.show()"
      ],
      "metadata": {
        "colab": {
          "base_uri": "https://localhost:8080/",
          "height": 279
        },
        "id": "dvlcmQF9lvoe",
        "outputId": "382c6b17-9902-4762-8827-b95310b2f20a"
      },
      "execution_count": 17,
      "outputs": [
        {
          "output_type": "display_data",
          "data": {
            "image/png": "[encoded data removed]",
            "text/plain": [
              "<Figure size 432x288 with 1 Axes>"
            ]
          },
          "metadata": {
            "needs_background": "light"
          }
        }
      ]
    },
    {
      "cell_type": "code",
      "source": [
        "length = bream_length + smelt_length\n",
        "weight = bream_weight + smelt_weight"
      ],
      "metadata": {
        "id": "3iQSAROOtyQc"
      },
      "execution_count": 18,
      "outputs": []
    },
    {
      "cell_type": "code",
      "source": [
        "fish_data = [[l,w] for l,w in zip(length, weight)] # training data set"
      ],
      "metadata": {
        "id": "gRy_VkzxvCCC"
      },
      "execution_count": 19,
      "outputs": []
    },
    {
      "cell_type": "code",
      "source": [
        "print(fish_data)"
      ],
      "metadata": {
        "colab": {
          "base_uri": "https://localhost:8080/"
        },
        "id": "RqAKw2eUvTNn",
        "outputId": "8d887e0e-c2b3-427d-c925-727570d78d4b"
      },
      "execution_count": 20,
      "outputs": [
        {
          "output_type": "stream",
          "name": "stdout",
          "text": [
            "[[25.4, 242.0], [26.3, 290.0], [26.5, 340.0], [29.0, 363.0], [29.0, 430.0], [29.7, 450.0], [29.7, 500.0], [30.0, 390.0], [30.0, 450.0], [30.7, 500.0], [31.0, 475.0], [31.0, 500.0], [31.5, 500.0], [32.0, 340.0], [32.0, 600.0], [32.0, 600.0], [33.0, 700.0], [33.0, 700.0], [33.5, 610.0], [33.5, 650.0], [34.0, 575.0], [34.0, 685.0], [34.5, 620.0], [35.0, 680.0], [35.0, 700.0], [35.0, 725.0], [35.0, 720.0], [36.0, 714.0], [36.0, 850.0], [37.0, 1000.0], [38.5, 920.0], [38.5, 955.0], [39.5, 925.0], [41.0, 975.0], [41.0, 950.0], [9.8, 6.7], [10.5, 7.5], [10.6, 7.0], [11.0, 9.7], [11.2, 9.8], [11.3, 8.7], [11.8, 10.0], [11.8, 9.9], [12.0, 9.8], [12.2, 12.2], [12.4, 13.4], [13.0, 12.2], [14.3, 19.7], [15.0, 19.9]]\n"
          ]
        }
      ]
    },
    {
      "cell_type": "code",
      "source": [
        "fish_target = [1]*35 + [0]*14\n",
        "print(fish_target)"
      ],
      "metadata": {
        "colab": {
          "base_uri": "https://localhost:8080/"
        },
        "id": "3ZxrIoBvvU0N",
        "outputId": "8be264b0-67d5-4c7f-e292-16e388415d5a"
      },
      "execution_count": 21,
      "outputs": [
        {
          "output_type": "stream",
          "name": "stdout",
          "text": [
            "[1, 1, 1, 1, 1, 1, 1, 1, 1, 1, 1, 1, 1, 1, 1, 1, 1, 1, 1, 1, 1, 1, 1, 1, 1, 1, 1, 1, 1, 1, 1, 1, 1, 1, 1, 0, 0, 0, 0, 0, 0, 0, 0, 0, 0, 0, 0, 0, 0]\n"
          ]
        }
      ]
    },
    {
      "cell_type": "code",
      "source": [
        "from sklearn.neighbors import KNeighborsClassifier # k-최근접 이웃 알고리즘 : predict로 주어질 데이터의 주변에 직선거리로 더 많이 존재하는 데이터로 판별(판별할 가장 가까운 데이터들의 개수의 기본값은 5)"
      ],
      "metadata": {
        "id": "jUnOhDSav0eB"
      },
      "execution_count": 24,
      "outputs": []
    },
    {
      "cell_type": "code",
      "source": [
        "kn = KNeighborsClassifier()"
      ],
      "metadata": {
        "id": "HzBpYQRGwEQ4"
      },
      "execution_count": 26,
      "outputs": []
    },
    {
      "cell_type": "code",
      "source": [
        "kn.fit(fish_data, fish_target) # fish_data와 fish_target으로 알고리즘 훈련"
      ],
      "metadata": {
        "colab": {
          "base_uri": "https://localhost:8080/"
        },
        "id": "Wi-BylRmxK9R",
        "outputId": "606c264b-fefa-4053-9d5a-d62cc8b58818"
      },
      "execution_count": 27,
      "outputs": [
        {
          "output_type": "execute_result",
          "data": {
            "text/plain": [
              "KNeighborsClassifier()"
            ]
          },
          "metadata": {},
          "execution_count": 27
        }
      ]
    },
    {
      "cell_type": "code",
      "source": [
        "kn.score(fish_data, fish_target) # 모델 정확도 평가"
      ],
      "metadata": {
        "colab": {
          "base_uri": "https://localhost:8080/"
        },
        "id": "I3r6dDDgxPNv",
        "outputId": "d134115a-6a7e-4a48-9b59-6d758553626f"
      },
      "execution_count": 28,
      "outputs": [
        {
          "output_type": "execute_result",
          "data": {
            "text/plain": [
              "1.0"
            ]
          },
          "metadata": {},
          "execution_count": 28
        }
      ]
    },
    {
      "cell_type": "code",
      "source": [
        "kn.predict([[30,600]]) # fish_data와 형태 일치"
      ],
      "metadata": {
        "colab": {
          "base_uri": "https://localhost:8080/"
        },
        "id": "mcmh4-rCxamS",
        "outputId": "b7673037-8cf2-4729-cecf-7d859b89a39e"
      },
      "execution_count": 29,
      "outputs": [
        {
          "output_type": "execute_result",
          "data": {
            "text/plain": [
              "array([1])"
            ]
          },
          "metadata": {},
          "execution_count": 29
        }
      ]
    },
    {
      "cell_type": "code",
      "source": [
        "print(kn._fit_X) # 데이터 셋"
      ],
      "metadata": {
        "colab": {
          "base_uri": "https://localhost:8080/"
        },
        "id": "56YMt1hJyHJR",
        "outputId": "56ed4bc9-cf96-4245-f5d4-4d7e2d23caf9"
      },
      "execution_count": 31,
      "outputs": [
        {
          "output_type": "stream",
          "name": "stdout",
          "text": [
            "[[  25.4  242. ]\n",
            " [  26.3  290. ]\n",
            " [  26.5  340. ]\n",
            " [  29.   363. ]\n",
            " [  29.   430. ]\n",
            " [  29.7  450. ]\n",
            " [  29.7  500. ]\n",
            " [  30.   390. ]\n",
            " [  30.   450. ]\n",
            " [  30.7  500. ]\n",
            " [  31.   475. ]\n",
            " [  31.   500. ]\n",
            " [  31.5  500. ]\n",
            " [  32.   340. ]\n",
            " [  32.   600. ]\n",
            " [  32.   600. ]\n",
            " [  33.   700. ]\n",
            " [  33.   700. ]\n",
            " [  33.5  610. ]\n",
            " [  33.5  650. ]\n",
            " [  34.   575. ]\n",
            " [  34.   685. ]\n",
            " [  34.5  620. ]\n",
            " [  35.   680. ]\n",
            " [  35.   700. ]\n",
            " [  35.   725. ]\n",
            " [  35.   720. ]\n",
            " [  36.   714. ]\n",
            " [  36.   850. ]\n",
            " [  37.  1000. ]\n",
            " [  38.5  920. ]\n",
            " [  38.5  955. ]\n",
            " [  39.5  925. ]\n",
            " [  41.   975. ]\n",
            " [  41.   950. ]\n",
            " [   9.8    6.7]\n",
            " [  10.5    7.5]\n",
            " [  10.6    7. ]\n",
            " [  11.     9.7]\n",
            " [  11.2    9.8]\n",
            " [  11.3    8.7]\n",
            " [  11.8   10. ]\n",
            " [  11.8    9.9]\n",
            " [  12.     9.8]\n",
            " [  12.2   12.2]\n",
            " [  12.4   13.4]\n",
            " [  13.    12.2]\n",
            " [  14.3   19.7]\n",
            " [  15.    19.9]]\n"
          ]
        }
      ]
    },
    {
      "cell_type": "code",
      "source": [
        "print(kn._y) # 1 = 도미 , 0 = 빙어"
      ],
      "metadata": {
        "colab": {
          "base_uri": "https://localhost:8080/"
        },
        "id": "5zzgzJ1kykBU",
        "outputId": "ab568737-ba07-4845-da4b-cb0173d03d58"
      },
      "execution_count": 32,
      "outputs": [
        {
          "output_type": "stream",
          "name": "stdout",
          "text": [
            "[1 1 1 1 1 1 1 1 1 1 1 1 1 1 1 1 1 1 1 1 1 1 1 1 1 1 1 1 1 1 1 1 1 1 1 0 0\n",
            " 0 0 0 0 0 0 0 0 0 0 0 0]\n"
          ]
        }
      ]
    },
    {
      "cell_type": "code",
      "source": [
        "kn49 = KNeighborsClassifier(n_neighbors=49) # (참고 데이터의 기본값은 5이다.) 기본값을 49개로 한 모델, 가장 가까운 49개의 데이터를 사용하여 예측(모든 생선)"
      ],
      "metadata": {
        "id": "vZzrwBVNysqL"
      },
      "execution_count": 34,
      "outputs": []
    },
    {
      "cell_type": "code",
      "source": [
        "print(35/49) # 도미의 개수가 35개 이기 때문, "
      ],
      "metadata": {
        "colab": {
          "base_uri": "https://localhost:8080/"
        },
        "id": "hTJhZ8QR08O0",
        "outputId": "6590e3a5-19b8-467d-960b-fa4123b1f1d1"
      },
      "execution_count": 37,
      "outputs": [
        {
          "output_type": "stream",
          "name": "stdout",
          "text": [
            "0.7142857142857143\n"
          ]
        }
      ]
    },
    {
      "cell_type": "markdown",
      "source": [
        "**n_neighbors = 49 일떄 35개가 나오는 정확한 이유 (헷갈려서 글로 적음)**\n",
        "\n",
        ": score 함수는 데이터셋에 적용된 알고리즘을 바탕으로 훈련된 모델의 예측값과 실 target을 비교하여 (일치하는 데이터 / 전체 데이터셋 개수)로 정확도를 산출한다.\n",
        "\n",
        "k-최근접 알고리즘의 본 기본값은 5이나, 그 값을 49로 설정할 경우 가장 가까운 49개의 데이터 중 다수를 차지하는 집합으로 판단하여 산출하게 된다.\n",
        "\n",
        "이 경우에는 데이터 각각을 판별할 때 가장 가까운 49개, 즉 모든 데이터 중 다수를 차지하는 데이터 군으로 판별함.\n",
        "\n",
        " 데이터 중 도미가 다수를 차지하기 때문에, 데이터 셋의 모든 경우가 도미군으로 예측될 것임.\n",
        "\n",
        " 여기서 설정된 모델은 49개 모두를 도미로 예측.  35개가 도미이므로 , 해당되는 35개의 데이터는 올바르게 예측했다. 하지만 나머지 14개의 빙어 또한 도미로 예측하게 되므로 14개의 빙어 데이터는 예측이 틀린다. 이렇게 49개중 도미군만 예측이 맞게 되고 정확도는 35/49가 된다. "
      ],
      "metadata": {
        "id": "fGqA1Fim8bk-"
      }
    },
    {
      "cell_type": "code",
      "source": [
        "kn35 = KNeighborsClassifier(n_neighbors=35)\n",
        "kn35.fit(fish_data,fish_target)\n",
        "kn35.score(fish_data,fish_target)"
      ],
      "metadata": {
        "colab": {
          "base_uri": "https://localhost:8080/"
        },
        "id": "dsqsWMI81Vy9",
        "outputId": "c3a8c207-734a-49b6-863a-60afddca8fdf"
      },
      "execution_count": 45,
      "outputs": [
        {
          "output_type": "execute_result",
          "data": {
            "text/plain": [
              "0.7142857142857143"
            ]
          },
          "metadata": {},
          "execution_count": 45
        }
      ]
    },
    {
      "cell_type": "code",
      "source": [
        "def n(a):\n",
        "  kn_ = KNeighborsClassifier(n_neighbors=a)\n",
        "  kn_.fit(fish_data,fish_target)\n",
        "  return kn_.score(fish_data, fish_target)"
      ],
      "metadata": {
        "id": "okgV5kJ-3Svu"
      },
      "execution_count": 41,
      "outputs": []
    },
    {
      "cell_type": "code",
      "source": [
        "for i in range(1,50):\n",
        "  print(n(i) , i , i+\"%\")"
      ],
      "metadata": {
        "colab": {
          "base_uri": "https://localhost:8080/"
        },
        "id": "gospGark4rIw",
        "outputId": "c7098f6c-6dbd-4508-bb07-cb3450fd625c"
      },
      "execution_count": 44,
      "outputs": [
        {
          "output_type": "stream",
          "name": "stdout",
          "text": [
            "1.0 1\n",
            "1.0 2\n",
            "1.0 3\n",
            "1.0 4\n",
            "1.0 5\n",
            "1.0 6\n",
            "1.0 7\n",
            "1.0 8\n",
            "1.0 9\n",
            "1.0 10\n",
            "1.0 11\n",
            "1.0 12\n",
            "1.0 13\n",
            "1.0 14\n",
            "1.0 15\n",
            "1.0 16\n",
            "1.0 17\n",
            "0.9795918367346939 18\n",
            "0.9795918367346939 19\n",
            "0.9795918367346939 20\n",
            "0.9795918367346939 21\n",
            "0.9795918367346939 22\n",
            "0.9795918367346939 23\n",
            "0.9795918367346939 24\n",
            "0.9795918367346939 25\n",
            "0.9795918367346939 26\n",
            "0.9795918367346939 27\n",
            "0.9591836734693877 28\n",
            "0.7142857142857143 29\n",
            "0.7142857142857143 30\n",
            "0.7142857142857143 31\n",
            "0.7142857142857143 32\n",
            "0.7142857142857143 33\n",
            "0.7142857142857143 34\n",
            "0.7142857142857143 35\n",
            "0.7142857142857143 36\n",
            "0.7142857142857143 37\n",
            "0.7142857142857143 38\n",
            "0.7142857142857143 39\n",
            "0.7142857142857143 40\n",
            "0.7142857142857143 41\n",
            "0.7142857142857143 42\n",
            "0.7142857142857143 43\n",
            "0.7142857142857143 44\n",
            "0.7142857142857143 45\n",
            "0.7142857142857143 46\n",
            "0.7142857142857143 47\n",
            "0.7142857142857143 48\n",
            "0.7142857142857143 49\n"
          ]
        }
      ]
    }
  ]
}