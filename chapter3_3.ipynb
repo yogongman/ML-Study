{
  "nbformat": 4,
  "nbformat_minor": 0,
  "metadata": {
    "colab": {
      "name": "chapter3-3.ipynb",
      "provenance": [],
      "collapsed_sections": [],
      "authorship_tag": "ABX9TyMXSjehjO6MB8EcTLAds6nE",
      "include_colab_link": true
    },
    "kernelspec": {
      "name": "python3",
      "display_name": "Python 3"
    },
    "language_info": {
      "name": "python"
    }
  },
  "cells": [
    {
      "cell_type": "markdown",
      "metadata": {
        "id": "view-in-github",
        "colab_type": "text"
      },
      "source": [
        "<a href=\"https://colab.research.google.com/github/yogongman/ML-Study/blob/main/chapter3_3.ipynb\" target=\"_parent\"><img src=\"https://colab.research.google.com/assets/colab-badge.svg\" alt=\"Open In Colab\"/></a>"
      ]
    },
    {
      "cell_type": "code",
      "execution_count": 1,
      "metadata": {
        "colab": {
          "base_uri": "https://localhost:8080/"
        },
        "id": "OE9uNOA_yFZR",
        "outputId": "6a95c4b7-a874-4970-fb02-28f50b1e75d2"
      },
      "outputs": [
        {
          "output_type": "stream",
          "name": "stdout",
          "text": [
            "[[ 8.4   2.11  1.41]\n",
            " [13.7   3.53  2.  ]\n",
            " [15.    3.82  2.43]\n",
            " [16.2   4.59  2.63]\n",
            " [17.4   4.59  2.94]\n",
            " [18.    5.22  3.32]\n",
            " [18.7   5.2   3.12]\n",
            " [19.    5.64  3.05]\n",
            " [19.6   5.14  3.04]\n",
            " [20.    5.08  2.77]\n",
            " [21.    5.69  3.56]\n",
            " [21.    5.92  3.31]\n",
            " [21.    5.69  3.67]\n",
            " [21.3   6.38  3.53]\n",
            " [22.    6.11  3.41]\n",
            " [22.    5.64  3.52]\n",
            " [22.    6.11  3.52]\n",
            " [22.    5.88  3.52]\n",
            " [22.    5.52  4.  ]\n",
            " [22.5   5.86  3.62]\n",
            " [22.5   6.79  3.62]\n",
            " [22.7   5.95  3.63]\n",
            " [23.    5.22  3.63]\n",
            " [23.5   6.28  3.72]\n",
            " [24.    7.29  3.72]\n",
            " [24.    6.38  3.82]\n",
            " [24.6   6.73  4.17]\n",
            " [25.    6.44  3.68]\n",
            " [25.6   6.56  4.24]\n",
            " [26.5   7.17  4.14]\n",
            " [27.3   8.32  5.14]\n",
            " [27.5   7.17  4.34]\n",
            " [27.5   7.05  4.34]\n",
            " [27.5   7.28  4.57]\n",
            " [28.    7.82  4.2 ]\n",
            " [28.7   7.59  4.64]\n",
            " [30.    7.62  4.77]\n",
            " [32.8  10.03  6.02]\n",
            " [34.5  10.26  6.39]\n",
            " [35.   11.49  7.8 ]\n",
            " [36.5  10.88  6.86]\n",
            " [36.   10.61  6.74]\n",
            " [37.   10.84  6.26]\n",
            " [37.   10.57  6.37]\n",
            " [39.   11.14  7.49]\n",
            " [39.   11.14  6.  ]\n",
            " [39.   12.43  7.35]\n",
            " [40.   11.93  7.11]\n",
            " [40.   11.73  7.22]\n",
            " [40.   12.38  7.46]\n",
            " [40.   11.14  6.63]\n",
            " [42.   12.8   6.87]\n",
            " [43.   11.93  7.28]\n",
            " [43.   12.51  7.42]\n",
            " [43.5  12.6   8.14]\n",
            " [44.   12.49  7.6 ]]\n"
          ]
        }
      ],
      "source": [
        "import pandas as pd\n",
        "df = pd.read_csv('https://bit.ly/perch_csv_data')\n",
        "perch_full = df.to_numpy()\n",
        "print(perch_full)"
      ]
    },
    {
      "cell_type": "code",
      "source": [
        "import numpy as np\n",
        "perch_length = np.array([8.4, 13.7, 15.0, 16.2, 17.4, 18.0, 18.7, 19.0, 19.6, 20.0, 21.0,\n",
        "       21.0, 21.0, 21.3, 22.0, 22.0, 22.0, 22.0, 22.0, 22.5, 22.5, 22.7,\n",
        "       23.0, 23.5, 24.0, 24.0, 24.6, 25.0, 25.6, 26.5, 27.3, 27.5, 27.5,\n",
        "       27.5, 28.0, 28.7, 30.0, 32.8, 34.5, 35.0, 36.5, 36.0, 37.0, 37.0,\n",
        "       39.0, 39.0, 39.0, 40.0, 40.0, 40.0, 40.0, 42.0, 43.0, 43.0, 43.5,\n",
        "       44.0])\n",
        "perch_weight = np.array([5.9, 32.0, 40.0, 51.5, 70.0, 100.0, 78.0, 80.0, 85.0, 85.0, 110.0,\n",
        "       115.0, 125.0, 130.0, 120.0, 120.0, 130.0, 135.0, 110.0, 130.0,\n",
        "       150.0, 145.0, 150.0, 170.0, 225.0, 145.0, 188.0, 180.0, 197.0,\n",
        "       218.0, 300.0, 260.0, 265.0, 250.0, 250.0, 300.0, 320.0, 514.0,\n",
        "       556.0, 840.0, 685.0, 700.0, 700.0, 690.0, 900.0, 650.0, 820.0,\n",
        "       850.0, 900.0, 1015.0, 820.0, 1100.0, 1000.0, 1100.0, 1000.0,\n",
        "       1000.0])"
      ],
      "metadata": {
        "id": "DZqEsGB8zbZD"
      },
      "execution_count": 2,
      "outputs": []
    },
    {
      "cell_type": "code",
      "source": [
        "from sklearn.model_selection import train_test_split\n",
        "train_input, test_input, train_target, test_target = train_test_split(perch_full, perch_weight, random_state=42)"
      ],
      "metadata": {
        "id": "OSFmPe_ozlRT"
      },
      "execution_count": 3,
      "outputs": []
    },
    {
      "cell_type": "code",
      "source": [
        " train_input"
      ],
      "metadata": {
        "colab": {
          "base_uri": "https://localhost:8080/"
        },
        "id": "ruE1eD6Pz6c6",
        "outputId": "3a53db24-6bb5-4a6e-edc3-1e3efac85443"
      },
      "execution_count": 4,
      "outputs": [
        {
          "output_type": "execute_result",
          "data": {
            "text/plain": [
              "array([[19.6 ,  5.14,  3.04],\n",
              "       [22.  ,  5.88,  3.52],\n",
              "       [18.7 ,  5.2 ,  3.12],\n",
              "       [17.4 ,  4.59,  2.94],\n",
              "       [36.  , 10.61,  6.74],\n",
              "       [25.  ,  6.44,  3.68],\n",
              "       [40.  , 11.93,  7.11],\n",
              "       [39.  , 12.43,  7.35],\n",
              "       [43.  , 11.93,  7.28],\n",
              "       [22.  ,  5.64,  3.52],\n",
              "       [20.  ,  5.08,  2.77],\n",
              "       [22.  ,  6.11,  3.52],\n",
              "       [24.  ,  7.29,  3.72],\n",
              "       [27.5 ,  7.17,  4.34],\n",
              "       [43.  , 12.51,  7.42],\n",
              "       [40.  , 11.73,  7.22],\n",
              "       [24.  ,  6.38,  3.82],\n",
              "       [21.  ,  5.92,  3.31],\n",
              "       [27.5 ,  7.05,  4.34],\n",
              "       [40.  , 12.38,  7.46],\n",
              "       [32.8 , 10.03,  6.02],\n",
              "       [26.5 ,  7.17,  4.14],\n",
              "       [36.5 , 10.88,  6.86],\n",
              "       [13.7 ,  3.53,  2.  ],\n",
              "       [22.7 ,  5.95,  3.63],\n",
              "       [15.  ,  3.82,  2.43],\n",
              "       [37.  , 10.57,  6.37],\n",
              "       [35.  , 11.49,  7.8 ],\n",
              "       [28.7 ,  7.59,  4.64],\n",
              "       [23.5 ,  6.28,  3.72],\n",
              "       [39.  , 11.14,  6.  ],\n",
              "       [21.  ,  5.69,  3.56],\n",
              "       [23.  ,  5.22,  3.63],\n",
              "       [22.  ,  5.52,  4.  ],\n",
              "       [44.  , 12.49,  7.6 ],\n",
              "       [22.5 ,  6.79,  3.62],\n",
              "       [19.  ,  5.64,  3.05],\n",
              "       [37.  , 10.84,  6.26],\n",
              "       [22.  ,  6.11,  3.41],\n",
              "       [25.6 ,  6.56,  4.24],\n",
              "       [42.  , 12.8 ,  6.87],\n",
              "       [34.5 , 10.26,  6.39]])"
            ]
          },
          "metadata": {},
          "execution_count": 4
        }
      ]
    },
    {
      "cell_type": "code",
      "source": [
        "print(train_input[:,0])"
      ],
      "metadata": {
        "colab": {
          "base_uri": "https://localhost:8080/"
        },
        "id": "RS6M3Dkmz955",
        "outputId": "1a102de6-0c73-4816-ad90-3f8817f3d211"
      },
      "execution_count": 5,
      "outputs": [
        {
          "output_type": "stream",
          "name": "stdout",
          "text": [
            "[19.6 22.  18.7 17.4 36.  25.  40.  39.  43.  22.  20.  22.  24.  27.5\n",
            " 43.  40.  24.  21.  27.5 40.  32.8 26.5 36.5 13.7 22.7 15.  37.  35.\n",
            " 28.7 23.5 39.  21.  23.  22.  44.  22.5 19.  37.  22.  25.6 42.  34.5]\n"
          ]
        }
      ]
    },
    {
      "cell_type": "code",
      "source": [
        "from sklearn.preprocessing import PolynomialFeatures"
      ],
      "metadata": {
        "id": "yjMCpFzq0Cts"
      },
      "execution_count": 6,
      "outputs": []
    },
    {
      "cell_type": "code",
      "source": [
        "poly = PolynomialFeatures()\n",
        "poly.fit([[2,3]])\n",
        "print(poly.transform([[2,3]]))"
      ],
      "metadata": {
        "colab": {
          "base_uri": "https://localhost:8080/"
        },
        "id": "Uhdu03TS0TT7",
        "outputId": "80ffb170-e962-4c16-bbe0-b5bb16cb7d5a"
      },
      "execution_count": 7,
      "outputs": [
        {
          "output_type": "stream",
          "name": "stdout",
          "text": [
            "[[1. 2. 3. 4. 6. 9.]]\n"
          ]
        }
      ]
    },
    {
      "cell_type": "code",
      "source": [
        "poly = PolynomialFeatures(include_bias=False)\n",
        "poly.fit([[2,3]])\n",
        "print(poly.transform([[2,3]]))"
      ],
      "metadata": {
        "colab": {
          "base_uri": "https://localhost:8080/"
        },
        "id": "1rtV5mOX0alw",
        "outputId": "c845d1eb-c547-45d7-cc34-8f4f3b104111"
      },
      "execution_count": 9,
      "outputs": [
        {
          "output_type": "stream",
          "name": "stdout",
          "text": [
            "[[2. 3. 4. 6. 9.]]\n"
          ]
        }
      ]
    },
    {
      "cell_type": "code",
      "source": [
        "poly = PolynomialFeatures(include_bias=False)\n",
        "poly.fit(train_input)\n",
        "train_poly = poly.transform(train_input)\n",
        "print(train_poly) #19.6 ,  5.14,  3.04 // a*a, a*b, a*c, b*b, b*c, c*c 순"
      ],
      "metadata": {
        "colab": {
          "base_uri": "https://localhost:8080/"
        },
        "id": "QEfI9ktn1vy7",
        "outputId": "22c0dc85-6322-4633-eda3-fafc48ca962a"
      },
      "execution_count": 10,
      "outputs": [
        {
          "output_type": "stream",
          "name": "stdout",
          "text": [
            "[[  19.6       5.14      3.04    384.16    100.744    59.584    26.4196\n",
            "    15.6256    9.2416]\n",
            " [  22.        5.88      3.52    484.      129.36     77.44     34.5744\n",
            "    20.6976   12.3904]\n",
            " [  18.7       5.2       3.12    349.69     97.24     58.344    27.04\n",
            "    16.224     9.7344]\n",
            " [  17.4       4.59      2.94    302.76     79.866    51.156    21.0681\n",
            "    13.4946    8.6436]\n",
            " [  36.       10.61      6.74   1296.      381.96    242.64    112.5721\n",
            "    71.5114   45.4276]\n",
            " [  25.        6.44      3.68    625.      161.       92.       41.4736\n",
            "    23.6992   13.5424]\n",
            " [  40.       11.93      7.11   1600.      477.2     284.4     142.3249\n",
            "    84.8223   50.5521]\n",
            " [  39.       12.43      7.35   1521.      484.77    286.65    154.5049\n",
            "    91.3605   54.0225]\n",
            " [  43.       11.93      7.28   1849.      512.99    313.04    142.3249\n",
            "    86.8504   52.9984]\n",
            " [  22.        5.64      3.52    484.      124.08     77.44     31.8096\n",
            "    19.8528   12.3904]\n",
            " [  20.        5.08      2.77    400.      101.6      55.4      25.8064\n",
            "    14.0716    7.6729]\n",
            " [  22.        6.11      3.52    484.      134.42     77.44     37.3321\n",
            "    21.5072   12.3904]\n",
            " [  24.        7.29      3.72    576.      174.96     89.28     53.1441\n",
            "    27.1188   13.8384]\n",
            " [  27.5       7.17      4.34    756.25    197.175   119.35     51.4089\n",
            "    31.1178   18.8356]\n",
            " [  43.       12.51      7.42   1849.      537.93    319.06    156.5001\n",
            "    92.8242   55.0564]\n",
            " [  40.       11.73      7.22   1600.      469.2     288.8     137.5929\n",
            "    84.6906   52.1284]\n",
            " [  24.        6.38      3.82    576.      153.12     91.68     40.7044\n",
            "    24.3716   14.5924]\n",
            " [  21.        5.92      3.31    441.      124.32     69.51     35.0464\n",
            "    19.5952   10.9561]\n",
            " [  27.5       7.05      4.34    756.25    193.875   119.35     49.7025\n",
            "    30.597    18.8356]\n",
            " [  40.       12.38      7.46   1600.      495.2     298.4     153.2644\n",
            "    92.3548   55.6516]\n",
            " [  32.8      10.03      6.02   1075.84    328.984   197.456   100.6009\n",
            "    60.3806   36.2404]\n",
            " [  26.5       7.17      4.14    702.25    190.005   109.71     51.4089\n",
            "    29.6838   17.1396]\n",
            " [  36.5      10.88      6.86   1332.25    397.12    250.39    118.3744\n",
            "    74.6368   47.0596]\n",
            " [  13.7       3.53      2.      187.69     48.361    27.4      12.4609\n",
            "     7.06      4.    ]\n",
            " [  22.7       5.95      3.63    515.29    135.065    82.401    35.4025\n",
            "    21.5985   13.1769]\n",
            " [  15.        3.82      2.43    225.       57.3      36.45     14.5924\n",
            "     9.2826    5.9049]\n",
            " [  37.       10.57      6.37   1369.      391.09    235.69    111.7249\n",
            "    67.3309   40.5769]\n",
            " [  35.       11.49      7.8    1225.      402.15    273.      132.0201\n",
            "    89.622    60.84  ]\n",
            " [  28.7       7.59      4.64    823.69    217.833   133.168    57.6081\n",
            "    35.2176   21.5296]\n",
            " [  23.5       6.28      3.72    552.25    147.58     87.42     39.4384\n",
            "    23.3616   13.8384]\n",
            " [  39.       11.14      6.     1521.      434.46    234.      124.0996\n",
            "    66.84     36.    ]\n",
            " [  21.        5.69      3.56    441.      119.49     74.76     32.3761\n",
            "    20.2564   12.6736]\n",
            " [  23.        5.22      3.63    529.      120.06     83.49     27.2484\n",
            "    18.9486   13.1769]\n",
            " [  22.        5.52      4.      484.      121.44     88.       30.4704\n",
            "    22.08     16.    ]\n",
            " [  44.       12.49      7.6    1936.      549.56    334.4     156.0001\n",
            "    94.924    57.76  ]\n",
            " [  22.5       6.79      3.62    506.25    152.775    81.45     46.1041\n",
            "    24.5798   13.1044]\n",
            " [  19.        5.64      3.05    361.      107.16     57.95     31.8096\n",
            "    17.202     9.3025]\n",
            " [  37.       10.84      6.26   1369.      401.08    231.62    117.5056\n",
            "    67.8584   39.1876]\n",
            " [  22.        6.11      3.41    484.      134.42     75.02     37.3321\n",
            "    20.8351   11.6281]\n",
            " [  25.6       6.56      4.24    655.36    167.936   108.544    43.0336\n",
            "    27.8144   17.9776]\n",
            " [  42.       12.8       6.87   1764.      537.6     288.54    163.84\n",
            "    87.936    47.1969]\n",
            " [  34.5      10.26      6.39   1190.25    353.97    220.455   105.2676\n",
            "    65.5614   40.8321]]\n"
          ]
        }
      ]
    },
    {
      "cell_type": "code",
      "source": [
        "poly.get_feature_names()"
      ],
      "metadata": {
        "colab": {
          "base_uri": "https://localhost:8080/"
        },
        "id": "e78hl9LM2Hxt",
        "outputId": "7fbd0445-5577-4628-c198-662a3373b78e"
      },
      "execution_count": 11,
      "outputs": [
        {
          "output_type": "stream",
          "name": "stderr",
          "text": [
            "/usr/local/lib/python3.7/dist-packages/sklearn/utils/deprecation.py:87: FutureWarning: Function get_feature_names is deprecated; get_feature_names is deprecated in 1.0 and will be removed in 1.2. Please use get_feature_names_out instead.\n",
            "  warnings.warn(msg, category=FutureWarning)\n"
          ]
        },
        {
          "output_type": "execute_result",
          "data": {
            "text/plain": [
              "['x0', 'x1', 'x2', 'x0^2', 'x0 x1', 'x0 x2', 'x1^2', 'x1 x2', 'x2^2']"
            ]
          },
          "metadata": {},
          "execution_count": 11
        }
      ]
    },
    {
      "cell_type": "code",
      "source": [
        "test_poly = poly.transform(test_input)"
      ],
      "metadata": {
        "id": "BLI9rTHW2osk"
      },
      "execution_count": 12,
      "outputs": []
    },
    {
      "cell_type": "code",
      "source": [
        "from sklearn.linear_model import LinearRegression\n",
        "lr = LinearRegression()\n",
        "lr.fit(train_poly, train_target)  \n",
        "print(lr.score(train_poly, train_target))"
      ],
      "metadata": {
        "colab": {
          "base_uri": "https://localhost:8080/"
        },
        "id": "MvSLE3ej2yFP",
        "outputId": "3d1dfc80-2347-4c8e-b987-429c0744c129"
      },
      "execution_count": 13,
      "outputs": [
        {
          "output_type": "stream",
          "name": "stdout",
          "text": [
            "0.9903183436982124\n"
          ]
        }
      ]
    },
    {
      "cell_type": "code",
      "source": [
        "print(lr.score(test_poly, test_target))"
      ],
      "metadata": {
        "colab": {
          "base_uri": "https://localhost:8080/"
        },
        "id": "FDPYK8q535oE",
        "outputId": "8593f9ff-51c0-4c46-8806-429706fb2be6"
      },
      "execution_count": 14,
      "outputs": [
        {
          "output_type": "stream",
          "name": "stdout",
          "text": [
            "0.9714559911594134\n"
          ]
        }
      ]
    },
    {
      "cell_type": "code",
      "source": [
        "poly = PolynomialFeatures(degree=5, include_bias=False)\n",
        "poly.fit(train_input)\n",
        "train_poly = poly.transform(train_input)\n",
        "test_poly = poly.transform(test_input)\n",
        "print(train_poly.shape)"
      ],
      "metadata": {
        "colab": {
          "base_uri": "https://localhost:8080/"
        },
        "id": "gS9Igy9B77Vv",
        "outputId": "b20bc4ef-8562-4710-ccae-e12acf151358"
      },
      "execution_count": 16,
      "outputs": [
        {
          "output_type": "stream",
          "name": "stdout",
          "text": [
            "(42, 55)\n"
          ]
        }
      ]
    },
    {
      "cell_type": "code",
      "source": [
        "lr.fit(train_poly, train_target)\n",
        "print(lr.score(train_poly, train_target)) # 과대적합(Overfitting)"
      ],
      "metadata": {
        "colab": {
          "base_uri": "https://localhost:8080/"
        },
        "id": "mjWnrgvV8OXl",
        "outputId": "8bd64a9a-2cdb-4d1e-8f8c-d3ba2baaa21d"
      },
      "execution_count": 18,
      "outputs": [
        {
          "output_type": "stream",
          "name": "stdout",
          "text": [
            "0.9999999999991097\n"
          ]
        }
      ]
    },
    {
      "cell_type": "code",
      "source": [
        "print(lr.score(test_poly, test_target))"
      ],
      "metadata": {
        "colab": {
          "base_uri": "https://localhost:8080/"
        },
        "id": "e37zQWaS8ZbJ",
        "outputId": "ffc622ed-0d66-42f8-b215-b98b6b8b9ee9"
      },
      "execution_count": 19,
      "outputs": [
        {
          "output_type": "stream",
          "name": "stdout",
          "text": [
            "-144.40579242684848\n"
          ]
        }
      ]
    },
    {
      "cell_type": "code",
      "source": [
        "print(lr.n_features_in_)"
      ],
      "metadata": {
        "colab": {
          "base_uri": "https://localhost:8080/"
        },
        "id": "KBX3n41N8jge",
        "outputId": "953d5e64-df32-4de3-83d4-f4f4c9fb7753"
      },
      "execution_count": 20,
      "outputs": [
        {
          "output_type": "stream",
          "name": "stdout",
          "text": [
            "55\n"
          ]
        }
      ]
    },
    {
      "cell_type": "code",
      "source": [
        "print(lr.coef_, lr.intercept_)"
      ],
      "metadata": {
        "colab": {
          "base_uri": "https://localhost:8080/"
        },
        "id": "bXmg3kYJ80SZ",
        "outputId": "090bfe11-dc19-4f34-dd49-e9d8ade6f041"
      },
      "execution_count": 21,
      "outputs": [
        {
          "output_type": "stream",
          "name": "stdout",
          "text": [
            "[-2.09046286e+04 -1.28182177e+03 -5.60568587e+03  2.08210606e+03\n",
            "  1.22297051e+03 -1.43811540e+03 -4.56962070e+03 -5.32891417e+02\n",
            "  6.00788380e+03 -2.10700052e+01 -6.86630547e+01 -1.38720413e+03\n",
            " -1.07566030e+03  3.95364102e+03  5.36644563e+03  3.82395517e+03\n",
            " -5.41578595e+03 -7.44650725e+03 -3.57626691e+03 -8.28151603e+00\n",
            "  3.60946181e+02 -4.02975688e+02 -3.16263595e+03  3.78221470e+03\n",
            "  1.35360877e+03  9.49694720e+03 -9.03127652e+03 -7.05277641e+03\n",
            " -5.77034173e+03 -9.30116997e+03  5.09465750e+03  9.77745663e+03\n",
            "  9.37625135e+03  7.91894742e+03 -2.17004839e+00  3.18815197e+01\n",
            "  1.05750599e+01  1.25145412e+02 -1.16343733e+03  8.34274225e+02\n",
            " -1.83477034e+03  7.09702960e+03 -1.74946596e+03 -3.82035083e+03\n",
            "  5.50888378e+03 -1.57853612e+04 -1.46750807e+03  8.08789552e+03\n",
            "  8.01725139e+03 -5.22510168e+03  1.18582793e+04  6.17623466e+03\n",
            " -7.04139963e+03 -6.28440330e+03 -7.60671211e+03] 95685.98067457725\n"
          ]
        }
      ]
    },
    {
      "cell_type": "code",
      "source": [
        "from sklearn.preprocessing import StandardScaler\n",
        "ss = StandardScaler()\n",
        "ss.fit(train_poly)\n",
        "train_scaled = ss.transform(train_poly)\n",
        "test_scaled = ss.transform(test_poly)"
      ],
      "metadata": {
        "id": "Rpi-0Gcq87mh"
      },
      "execution_count": 22,
      "outputs": []
    },
    {
      "cell_type": "code",
      "source": [
        "print(train_scaled)"
      ],
      "metadata": {
        "colab": {
          "base_uri": "https://localhost:8080/"
        },
        "id": "OTAEPFHP-nLx",
        "outputId": "86fa3c74-f6ba-4336-a31c-cfb4b0a9d3bf"
      },
      "execution_count": 23,
      "outputs": [
        {
          "output_type": "stream",
          "name": "stdout",
          "text": [
            "[[-1.01339619 -1.01007487 -1.01952321 ... -0.76449499 -0.75967179\n",
            "  -0.75143746]\n",
            " [-0.73842893 -0.75254307 -0.74466913 ... -0.73198449 -0.72731765\n",
            "  -0.71950111]\n",
            " [-1.11650891 -0.98919391 -0.97371419 ... -0.76114089 -0.75592147\n",
            "  -0.74734146]\n",
            " ...\n",
            " [-0.32597805 -0.51589222 -0.33238802 ... -0.65673421 -0.64237495\n",
            "  -0.62509499]\n",
            " [ 1.55296488  1.65572732  1.17358328 ...  1.45958191  1.19906225\n",
            "   0.95977016]\n",
            " [ 0.6936922   0.7717668   0.8987292  ...  0.3701756   0.40321427\n",
            "   0.43089551]]\n"
          ]
        }
      ]
    },
    {
      "cell_type": "code",
      "source": [
        "from sklearn.linear_model import Ridge\n",
        "ridge = Ridge()\n",
        "ridge.fit(train_scaled, train_target)\n",
        "print(ridge.score(train_scaled, train_target))"
      ],
      "metadata": {
        "colab": {
          "base_uri": "https://localhost:8080/"
        },
        "id": "nzD2DZQl-qwr",
        "outputId": "720ebe62-aeee-4956-dc0d-6a2be795907d"
      },
      "execution_count": 24,
      "outputs": [
        {
          "output_type": "stream",
          "name": "stdout",
          "text": [
            "0.9896101671037343\n"
          ]
        }
      ]
    },
    {
      "cell_type": "code",
      "source": [
        "print(ridge.score(test_scaled, test_target))"
      ],
      "metadata": {
        "colab": {
          "base_uri": "https://localhost:8080/"
        },
        "id": "BlQSrrra_Egj",
        "outputId": "411141c7-5545-4d46-c4f0-b3f4a92c474b"
      },
      "execution_count": 25,
      "outputs": [
        {
          "output_type": "stream",
          "name": "stdout",
          "text": [
            "0.9790693977615397\n"
          ]
        }
      ]
    },
    {
      "cell_type": "code",
      "source": [
        "import matplotlib.pyplot as plt\n",
        "train_score = []\n",
        "test_score = []"
      ],
      "metadata": {
        "id": "DUJgg234_R4k"
      },
      "execution_count": 34,
      "outputs": []
    },
    {
      "cell_type": "code",
      "source": [
        "alpha_list = [0.001, 0.01, 0.1, 1, 10, 100]\n",
        "for alpha in alpha_list:\n",
        "  ridge = Ridge(alpha=alpha)\n",
        "  ridge.fit(train_scaled, train_target)\n",
        "  train_score.append(ridge.score(train_scaled, train_target))\n",
        "  test_score.append(ridge.score(test_scaled, test_target))"
      ],
      "metadata": {
        "id": "vGOkRxWb_s4J"
      },
      "execution_count": 35,
      "outputs": []
    },
    {
      "cell_type": "code",
      "source": [
        "plt.plot(np.log10(alpha_list), train_score)\n",
        "plt.plot(np.log10(alpha_list), test_score)\n",
        "plt.xlabel('alpha')\n",
        "plt.ylabel('R^2')\n",
        "plt.show()"
      ],
      "metadata": {
        "colab": {
          "base_uri": "https://localhost:8080/",
          "height": 279
        },
        "id": "vd3MUc6aAG0v",
        "outputId": "6678d375-b725-4e6e-ba77-3c6a499accb1"
      },
      "execution_count": 36,
      "outputs": [
        {
          "output_type": "display_data",
          "data": {
            "image/png": "[encoded data removed]",
            "text/plain": [
              "<Figure size 432x288 with 1 Axes>"
            ]
          },
          "metadata": {
            "needs_background": "light"
          }
        }
      ]
    },
    {
      "cell_type": "code",
      "source": [
        "ridge = Ridge(alpha = 0.1)\n",
        "ridge.fit(train_scaled, train_target)\n",
        "print(ridge.score(train_scaled, train_target))\n",
        "print(ridge.score(test_scaled, test_target))\n"
      ],
      "metadata": {
        "colab": {
          "base_uri": "https://localhost:8080/"
        },
        "id": "Ilz4NWWqAmOO",
        "outputId": "bddba968-72a5-45fe-9930-3a5b5b14b92e"
      },
      "execution_count": 37,
      "outputs": [
        {
          "output_type": "stream",
          "name": "stdout",
          "text": [
            "0.9903815817570366\n",
            "0.9827976465386926\n"
          ]
        }
      ]
    },
    {
      "cell_type": "code",
      "source": [
        " from sklearn.linear_model import Lasso\n",
        " lasso = Lasso()\n",
        " lasso.fit(train_scaled, train_target)\n",
        " print(lasso.score(train_scaled, train_target))"
      ],
      "metadata": {
        "colab": {
          "base_uri": "https://localhost:8080/"
        },
        "id": "Yfntmc4uBhsp",
        "outputId": "5cbfb045-3b0e-4986-a3d9-d30bff40bc1c"
      },
      "execution_count": 38,
      "outputs": [
        {
          "output_type": "stream",
          "name": "stdout",
          "text": [
            "0.989789897208096\n"
          ]
        }
      ]
    },
    {
      "cell_type": "code",
      "source": [
        "print(lasso.score(test_scaled, test_target))"
      ],
      "metadata": {
        "colab": {
          "base_uri": "https://localhost:8080/"
        },
        "id": "JVjVO7qlCrIF",
        "outputId": "70d69129-7a4b-497e-bdb9-f766e63d99ad"
      },
      "execution_count": 39,
      "outputs": [
        {
          "output_type": "stream",
          "name": "stdout",
          "text": [
            "0.9800593698421883\n"
          ]
        }
      ]
    },
    {
      "cell_type": "code",
      "source": [
        "train_score = []\n",
        "test_score = []\n",
        "alpha_list = [0.001, 0.01, 0.1, 1, 10, 100]\n",
        "for alpha in alpha_list:\n",
        "  lasso = Lasso(alpha = alpha, max_iter=10000)\n",
        "  lasso.fit(train_scaled, train_target)\n",
        "  train_score.append(lasso.score(train_scaled, train_target))\n",
        "  test_score.append(lasso.score(test_scaled, test_target))"
      ],
      "metadata": {
        "colab": {
          "base_uri": "https://localhost:8080/"
        },
        "id": "Ewt6TKaNC_sW",
        "outputId": "c6aaf07d-92f6-4638-eb90-8d2c2af4f7c7"
      },
      "execution_count": 40,
      "outputs": [
        {
          "output_type": "stream",
          "name": "stderr",
          "text": [
            "/usr/local/lib/python3.7/dist-packages/sklearn/linear_model/_coordinate_descent.py:648: ConvergenceWarning: Objective did not converge. You might want to increase the number of iterations, check the scale of the features or consider increasing regularisation. Duality gap: 1.878e+04, tolerance: 5.183e+02\n",
            "  coef_, l1_reg, l2_reg, X, y, max_iter, tol, rng, random, positive\n",
            "/usr/local/lib/python3.7/dist-packages/sklearn/linear_model/_coordinate_descent.py:648: ConvergenceWarning: Objective did not converge. You might want to increase the number of iterations, check the scale of the features or consider increasing regularisation. Duality gap: 1.297e+04, tolerance: 5.183e+02\n",
            "  coef_, l1_reg, l2_reg, X, y, max_iter, tol, rng, random, positive\n"
          ]
        }
      ]
    },
    {
      "cell_type": "code",
      "source": [
        "plt.plot(np.log10(alpha_list), train_score)\n",
        "plt.plot(np.log10(alpha_list), test_score)\n",
        "plt.xlabel('alpha')\n",
        "plt.ylabel('R^2')\n",
        "plt.show()"
      ],
      "metadata": {
        "colab": {
          "base_uri": "https://localhost:8080/",
          "height": 279
        },
        "id": "e9prnxpmDew3",
        "outputId": "08f1917b-e447-4cc0-fd04-fa1ac7cf2005"
      },
      "execution_count": 43,
      "outputs": [
        {
          "output_type": "display_data",
          "data": {
            "image/png": "[encoded data removed]",
            "text/plain": [
              "<Figure size 432x288 with 1 Axes>"
            ]
          },
          "metadata": {
            "needs_background": "light"
          }
        }
      ]
    },
    {
      "cell_type": "code",
      "source": [
        "lasso = Lasso(alpha = 10)\n",
        "lasso.fit(train_scaled, train_target)\n",
        "print(lasso.score(train_scaled, train_target))\n",
        "print(lasso.score(test_scaled, test_target))"
      ],
      "metadata": {
        "colab": {
          "base_uri": "https://localhost:8080/"
        },
        "id": "WS2FzeN6D3J6",
        "outputId": "08f06c80-1ae9-40b9-b36c-c7851ff155dc"
      },
      "execution_count": 44,
      "outputs": [
        {
          "output_type": "stream",
          "name": "stdout",
          "text": [
            "0.9888067471131867\n",
            "0.9824470598706695\n"
          ]
        }
      ]
    },
    {
      "cell_type": "code",
      "source": [
        " print(lasso.coef_)"
      ],
      "metadata": {
        "colab": {
          "base_uri": "https://localhost:8080/"
        },
        "id": "hnkXOPMgEMBy",
        "outputId": "0fcb1e31-216a-444f-c148-bbb3e0b90ed8"
      },
      "execution_count": 45,
      "outputs": [
        {
          "output_type": "stream",
          "name": "stdout",
          "text": [
            "[ 0.          0.          0.         12.14852453 55.44856399 42.23100799\n",
            "  0.          0.         13.70596191  0.         43.2185952   5.7033775\n",
            " 47.46254536  7.42309425 11.85823365  0.          0.         13.53038193\n",
            " 21.22111356  0.          0.          0.          0.          0.\n",
            "  0.         18.66993032  0.          0.          0.         15.81041778\n",
            "  0.          0.          0.          0.          0.          0.\n",
            "  0.          0.          0.          0.          0.          0.\n",
            "  0.          0.         18.14672268  0.          0.          0.\n",
            "  0.         15.51272953  0.          0.          0.          0.\n",
            "  0.        ]\n"
          ]
        }
      ]
    },
    {
      "cell_type": "code",
      "source": [
        "print(ridge.coef_)"
      ],
      "metadata": {
        "colab": {
          "base_uri": "https://localhost:8080/"
        },
        "id": "Gn4chILtERUm",
        "outputId": "9ef357a5-4d64-421e-97ab-32b1f94a4e5c"
      },
      "execution_count": 46,
      "outputs": [
        {
          "output_type": "stream",
          "name": "stdout",
          "text": [
            "[ 27.61933479  -1.64022156 -19.73256036  30.0306195   16.99800255\n",
            "  17.83247301   4.46928273   3.87258547  22.8351822   19.50417483\n",
            "  17.75985317  14.53122144  13.34875736   7.57294011  19.2573194\n",
            "   5.12766348  -2.05671393  10.62376405  41.72322888   5.90722851\n",
            "  14.93389276  -0.4506018   19.86035413   1.27084276  -1.00708878\n",
            "  19.69043816  -1.15817017  -3.57357468  11.96629206  13.68484378\n",
            "  -8.41738209  -9.97919956   8.42421045  45.51544903  -6.23828569\n",
            "  13.36080282 -17.64759601  28.23566212  -6.56619234 -25.89115813\n",
            "  37.3785331   -0.39779345 -20.82275921 -23.80607786  39.96650626\n",
            "   0.10569722 -20.49768851 -21.74712923  -4.12579289  35.39224119\n",
            "  -5.59195    -25.3889504  -23.93962265  -1.89229971  39.44235556]\n"
          ]
        }
      ]
    },
    {
      "cell_type": "code",
      "source": [
        ""
      ],
      "metadata": {
        "id": "IgfKtFe9EdXi"
      },
      "execution_count": null,
      "outputs": []
    }
  ]
}